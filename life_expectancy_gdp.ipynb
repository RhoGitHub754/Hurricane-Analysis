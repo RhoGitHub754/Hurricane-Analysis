{
  "nbformat": 4,
  "nbformat_minor": 0,
  "metadata": {
    "kernelspec": {
      "display_name": "Python 3",
      "language": "python",
      "name": "python3"
    },
    "language_info": {
      "codemirror_mode": {
        "name": "ipython",
        "version": 3
      },
      "file_extension": ".py",
      "mimetype": "text/x-python",
      "name": "python",
      "nbconvert_exporter": "python",
      "pygments_lexer": "ipython3",
      "version": "3.7.6"
    },
    "colab": {
      "name": "life_expectancy_gdp.ipynb",
      "provenance": [],
      "collapsed_sections": [],
      "include_colab_link": true
    }
  },
  "cells": [
    {
      "cell_type": "markdown",
      "metadata": {
        "id": "view-in-github",
        "colab_type": "text"
      },
      "source": [
        "<a href=\"https://colab.research.google.com/github/RhoGitHub754/Hurricane-Analysis/blob/main/life_expectancy_gdp.ipynb\" target=\"_parent\"><img src=\"https://colab.research.google.com/assets/colab-badge.svg\" alt=\"Open In Colab\"/></a>"
      ]
    },
    {
      "cell_type": "markdown",
      "metadata": {
        "id": "97w7xm8y2aNP"
      },
      "source": [
        "# Life Expectancy and GDP\n",
        "\n",
        "\n",
        "---\n",
        "\n",
        "\n",
        "\n"
      ]
    },
    {
      "cell_type": "code",
      "metadata": {
        "colab": {
          "base_uri": "https://localhost:8080/"
        },
        "id": "c0ycTJlj15kn",
        "outputId": "0e3c65e8-c1a9-4210-f59f-c92c66fe5c7b"
      },
      "source": [
        "from google.colab import drive\n",
        "drive.mount('/content/drive')"
      ],
      "execution_count": 2,
      "outputs": [
        {
          "output_type": "stream",
          "text": [
            "Mounted at /content/drive\n"
          ],
          "name": "stdout"
        }
      ]
    },
    {
      "cell_type": "code",
      "metadata": {
        "id": "gIOkXxtO1Wdk"
      },
      "source": [
        "import pandas as pd\n",
        "from matplotlib import pyplot as plt\n",
        "import seaborn as sns\n",
        "import numpy as np"
      ],
      "execution_count": 33,
      "outputs": []
    },
    {
      "cell_type": "markdown",
      "metadata": {
        "id": "BG6IXY2U3C2j"
      },
      "source": [
        "## Load the Data\n",
        "You have been given one CSV file, all_data.csv which contains data on GDP and life expectancy within different countries.\n",
        "\n",
        "Open all_data.csv with pandas.\n",
        "\n",
        "The dataset provided has the following columns of data:\n",
        "\n",
        "**Country** - nation\n",
        "\n",
        "**Year** - the year for the observation\n",
        "\n",
        "**Life** expectancy at birth (years) - life expectancy value in years\n",
        "\n",
        "**GDP** - Gross Domestic Product in U.S. dollars"
      ]
    },
    {
      "cell_type": "code",
      "metadata": {
        "colab": {
          "base_uri": "https://localhost:8080/",
          "height": 204
        },
        "id": "agpWyBhz3CKH",
        "outputId": "1124cd04-7eab-4699-8fae-4dc50f50758c"
      },
      "source": [
        "df = pd.read_csv('/content/drive/MyDrive/Colab Notebooks/Codecademy - Data Analyst Portfolio/Life-Expectancy-and-GDP-Starter/all_data.csv')\n",
        "df.head()"
      ],
      "execution_count": 4,
      "outputs": [
        {
          "output_type": "execute_result",
          "data": {
            "text/html": [
              "<div>\n",
              "<style scoped>\n",
              "    .dataframe tbody tr th:only-of-type {\n",
              "        vertical-align: middle;\n",
              "    }\n",
              "\n",
              "    .dataframe tbody tr th {\n",
              "        vertical-align: top;\n",
              "    }\n",
              "\n",
              "    .dataframe thead th {\n",
              "        text-align: right;\n",
              "    }\n",
              "</style>\n",
              "<table border=\"1\" class=\"dataframe\">\n",
              "  <thead>\n",
              "    <tr style=\"text-align: right;\">\n",
              "      <th></th>\n",
              "      <th>Country</th>\n",
              "      <th>Year</th>\n",
              "      <th>Life expectancy at birth (years)</th>\n",
              "      <th>GDP</th>\n",
              "    </tr>\n",
              "  </thead>\n",
              "  <tbody>\n",
              "    <tr>\n",
              "      <th>0</th>\n",
              "      <td>Chile</td>\n",
              "      <td>2000</td>\n",
              "      <td>77.3</td>\n",
              "      <td>7.786093e+10</td>\n",
              "    </tr>\n",
              "    <tr>\n",
              "      <th>1</th>\n",
              "      <td>Chile</td>\n",
              "      <td>2001</td>\n",
              "      <td>77.3</td>\n",
              "      <td>7.097992e+10</td>\n",
              "    </tr>\n",
              "    <tr>\n",
              "      <th>2</th>\n",
              "      <td>Chile</td>\n",
              "      <td>2002</td>\n",
              "      <td>77.8</td>\n",
              "      <td>6.973681e+10</td>\n",
              "    </tr>\n",
              "    <tr>\n",
              "      <th>3</th>\n",
              "      <td>Chile</td>\n",
              "      <td>2003</td>\n",
              "      <td>77.9</td>\n",
              "      <td>7.564346e+10</td>\n",
              "    </tr>\n",
              "    <tr>\n",
              "      <th>4</th>\n",
              "      <td>Chile</td>\n",
              "      <td>2004</td>\n",
              "      <td>78.0</td>\n",
              "      <td>9.921039e+10</td>\n",
              "    </tr>\n",
              "  </tbody>\n",
              "</table>\n",
              "</div>"
            ],
            "text/plain": [
              "  Country  Year  Life expectancy at birth (years)           GDP\n",
              "0   Chile  2000                              77.3  7.786093e+10\n",
              "1   Chile  2001                              77.3  7.097992e+10\n",
              "2   Chile  2002                              77.8  6.973681e+10\n",
              "3   Chile  2003                              77.9  7.564346e+10\n",
              "4   Chile  2004                              78.0  9.921039e+10"
            ]
          },
          "metadata": {},
          "execution_count": 4
        }
      ]
    },
    {
      "cell_type": "code",
      "metadata": {
        "colab": {
          "base_uri": "https://localhost:8080/"
        },
        "id": "D6mDloLR40_n",
        "outputId": "e588dcf6-afdc-45f3-ad95-0dc08319bb5c"
      },
      "source": [
        "df.info()"
      ],
      "execution_count": 5,
      "outputs": [
        {
          "output_type": "stream",
          "text": [
            "<class 'pandas.core.frame.DataFrame'>\n",
            "RangeIndex: 96 entries, 0 to 95\n",
            "Data columns (total 4 columns):\n",
            " #   Column                            Non-Null Count  Dtype  \n",
            "---  ------                            --------------  -----  \n",
            " 0   Country                           96 non-null     object \n",
            " 1   Year                              96 non-null     int64  \n",
            " 2   Life expectancy at birth (years)  96 non-null     float64\n",
            " 3   GDP                               96 non-null     float64\n",
            "dtypes: float64(2), int64(1), object(1)\n",
            "memory usage: 3.1+ KB\n"
          ],
          "name": "stdout"
        }
      ]
    },
    {
      "cell_type": "code",
      "metadata": {
        "colab": {
          "base_uri": "https://localhost:8080/",
          "height": 297
        },
        "id": "ZVCZMVSn45_S",
        "outputId": "4a187613-f4ec-4a35-e0f0-04893f98d602"
      },
      "source": [
        "df.describe()"
      ],
      "execution_count": 6,
      "outputs": [
        {
          "output_type": "execute_result",
          "data": {
            "text/html": [
              "<div>\n",
              "<style scoped>\n",
              "    .dataframe tbody tr th:only-of-type {\n",
              "        vertical-align: middle;\n",
              "    }\n",
              "\n",
              "    .dataframe tbody tr th {\n",
              "        vertical-align: top;\n",
              "    }\n",
              "\n",
              "    .dataframe thead th {\n",
              "        text-align: right;\n",
              "    }\n",
              "</style>\n",
              "<table border=\"1\" class=\"dataframe\">\n",
              "  <thead>\n",
              "    <tr style=\"text-align: right;\">\n",
              "      <th></th>\n",
              "      <th>Year</th>\n",
              "      <th>Life expectancy at birth (years)</th>\n",
              "      <th>GDP</th>\n",
              "    </tr>\n",
              "  </thead>\n",
              "  <tbody>\n",
              "    <tr>\n",
              "      <th>count</th>\n",
              "      <td>96.000000</td>\n",
              "      <td>96.000000</td>\n",
              "      <td>9.600000e+01</td>\n",
              "    </tr>\n",
              "    <tr>\n",
              "      <th>mean</th>\n",
              "      <td>2007.500000</td>\n",
              "      <td>72.789583</td>\n",
              "      <td>3.880499e+12</td>\n",
              "    </tr>\n",
              "    <tr>\n",
              "      <th>std</th>\n",
              "      <td>4.633971</td>\n",
              "      <td>10.672882</td>\n",
              "      <td>5.197561e+12</td>\n",
              "    </tr>\n",
              "    <tr>\n",
              "      <th>min</th>\n",
              "      <td>2000.000000</td>\n",
              "      <td>44.300000</td>\n",
              "      <td>4.415703e+09</td>\n",
              "    </tr>\n",
              "    <tr>\n",
              "      <th>25%</th>\n",
              "      <td>2003.750000</td>\n",
              "      <td>74.475000</td>\n",
              "      <td>1.733018e+11</td>\n",
              "    </tr>\n",
              "    <tr>\n",
              "      <th>50%</th>\n",
              "      <td>2007.500000</td>\n",
              "      <td>76.750000</td>\n",
              "      <td>1.280220e+12</td>\n",
              "    </tr>\n",
              "    <tr>\n",
              "      <th>75%</th>\n",
              "      <td>2011.250000</td>\n",
              "      <td>78.900000</td>\n",
              "      <td>4.067510e+12</td>\n",
              "    </tr>\n",
              "    <tr>\n",
              "      <th>max</th>\n",
              "      <td>2015.000000</td>\n",
              "      <td>81.000000</td>\n",
              "      <td>1.810000e+13</td>\n",
              "    </tr>\n",
              "  </tbody>\n",
              "</table>\n",
              "</div>"
            ],
            "text/plain": [
              "              Year  Life expectancy at birth (years)           GDP\n",
              "count    96.000000                         96.000000  9.600000e+01\n",
              "mean   2007.500000                         72.789583  3.880499e+12\n",
              "std       4.633971                         10.672882  5.197561e+12\n",
              "min    2000.000000                         44.300000  4.415703e+09\n",
              "25%    2003.750000                         74.475000  1.733018e+11\n",
              "50%    2007.500000                         76.750000  1.280220e+12\n",
              "75%    2011.250000                         78.900000  4.067510e+12\n",
              "max    2015.000000                         81.000000  1.810000e+13"
            ]
          },
          "metadata": {},
          "execution_count": 6
        }
      ]
    },
    {
      "cell_type": "code",
      "metadata": {
        "colab": {
          "base_uri": "https://localhost:8080/"
        },
        "id": "sjQxpb0jirxD",
        "outputId": "67e59e0f-5657-45f9-fe53-574a9e20e981"
      },
      "source": [
        "df.Country.unique()"
      ],
      "execution_count": 7,
      "outputs": [
        {
          "output_type": "execute_result",
          "data": {
            "text/plain": [
              "array(['Chile', 'China', 'Germany', 'Mexico', 'United States of America',\n",
              "       'Zimbabwe'], dtype=object)"
            ]
          },
          "metadata": {},
          "execution_count": 7
        }
      ]
    },
    {
      "cell_type": "code",
      "metadata": {
        "colab": {
          "base_uri": "https://localhost:8080/",
          "height": 335
        },
        "id": "iXEenCqSjpNL",
        "outputId": "9d82de0a-a91e-4fd6-aa45-8d068c2829f2"
      },
      "source": [
        "sns.set()\n",
        "\n",
        "\n",
        "plt.bar(df.Country, df['Life expectancy at birth (years)'])\n",
        "plt.tight_layout()\n",
        "plt.xticks(rotation = (20), fontsize = 10)\n",
        "plt.show()"
      ],
      "execution_count": 21,
      "outputs": [
        {
          "output_type": "display_data",
          "data": {
            "image/png": "[encoded data removed]",
            "text/plain": [
              "<Figure size 432x288 with 1 Axes>"
            ]
          },
          "metadata": {}
        }
      ]
    },
    {
      "cell_type": "code",
      "metadata": {
        "colab": {
          "base_uri": "https://localhost:8080/",
          "height": 321
        },
        "id": "BOWRmFZJmTER",
        "outputId": "f2f77ea5-fe2c-49cf-e0ac-9b7c10cc51b2"
      },
      "source": [
        "plt.bar(df.Country, df.GDP)\n",
        "plt.xticks(rotation = (20), fontsize = 10)\n",
        "plt.show()"
      ],
      "execution_count": 23,
      "outputs": [
        {
          "output_type": "display_data",
          "data": {
            "image/png": "[encoded data removed]",
            "text/plain": [
              "<Figure size 432x288 with 1 Axes>"
            ]
          },
          "metadata": {}
        }
      ]
    },
    {
      "cell_type": "code",
      "metadata": {
        "colab": {
          "base_uri": "https://localhost:8080/",
          "height": 457
        },
        "id": "sO41rMgMmnIS",
        "outputId": "d7610b0f-8797-4d0c-fe7f-5394286b06a2"
      },
      "source": [
        "print(df.groupby('Country').GDP.mean())\n",
        "\n",
        "country_mean = df.groupby('Country').GDP.mean()\n",
        "\n",
        "plt.bar(df.Country.unique(), country_mean)\n",
        "plt.xticks(rotation = (20), fontsize = 10)\n",
        "plt.show()"
      ],
      "execution_count": 45,
      "outputs": [
        {
          "output_type": "stream",
          "text": [
            "Country\n",
            "Chile                       1.697888e+11\n",
            "China                       4.957714e+12\n",
            "Germany                     3.094776e+12\n",
            "Mexico                      9.766506e+11\n",
            "United States of America    1.407500e+13\n",
            "Zimbabwe                    9.062580e+09\n",
            "Name: GDP, dtype: float64\n"
          ],
          "name": "stdout"
        },
        {
          "output_type": "display_data",
          "data": {
            "image/png": "[encoded data removed]",
            "text/plain": [
              "<Figure size 432x288 with 1 Axes>"
            ]
          },
          "metadata": {}
        }
      ]
    }
  ]
}